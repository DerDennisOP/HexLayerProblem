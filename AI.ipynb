{
 "cells": [
  {
   "cell_type": "code",
   "execution_count": null,
   "metadata": {},
   "outputs": [],
   "source": []
  }
 ],
 "metadata": {
  "kernelspec": {
   "display_name": "Python 3",
   "language": "python",
   "name": "python3"
  },
  "language_info": {
   "name": "python",
   "version": "3.7.5"
  },
  "orig_nbformat": 4,
  "vscode": {
   "interpreter": {
    "hash": "9885b7e95e732e8bfe42f173e4a75c6e9b00f609438dc6cfb2d28ddaaac70cfe"
   }
  }
 },
 "nbformat": 4,
 "nbformat_minor": 2
}
